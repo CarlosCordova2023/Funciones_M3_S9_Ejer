{
  "nbformat": 4,
  "nbformat_minor": 0,
  "metadata": {
    "colab": {
      "provenance": [],
      "authorship_tag": "ABX9TyPDpJ+nIO3Ec7YeYvfz5Fxz",
      "include_colab_link": true
    },
    "kernelspec": {
      "name": "python3",
      "display_name": "Python 3"
    },
    "language_info": {
      "name": "python"
    }
  },
  "cells": [
    {
      "cell_type": "markdown",
      "metadata": {
        "id": "view-in-github",
        "colab_type": "text"
      },
      "source": [
        "<a href=\"https://colab.research.google.com/github/CarlosCordova2023/Funciones_M3_S9_Ejer/blob/main/Funciones.ipynb\" target=\"_parent\"><img src=\"https://colab.research.google.com/assets/colab-badge.svg\" alt=\"Open In Colab\"/></a>"
      ]
    },
    {
      "cell_type": "code",
      "execution_count": 1,
      "metadata": {
        "colab": {
          "base_uri": "https://localhost:8080/"
        },
        "id": "GqEJqcLGmveH",
        "outputId": "5f94c655-1050-4aac-e6d8-bf1614ca5b06"
      },
      "outputs": [
        {
          "output_type": "stream",
          "name": "stdout",
          "text": [
            "El área del rectángulo con base 5 y altura 10 es: 50\n"
          ]
        }
      ],
      "source": [
        "def calcular_area_rectangulo(base, altura):\n",
        "\n",
        "    if base <= 0 or altura <= 0:\n",
        "        return \"Base y altura deben ser números positivos.\"\n",
        "\n",
        "\n",
        "    area = base * altura\n",
        "\n",
        "\n",
        "    return area\n",
        "\n",
        "\n",
        "base = 5\n",
        "altura = 10\n",
        "resultado = calcular_area_rectangulo(base, altura)\n",
        "print(f\"El área del rectángulo con base {base} y altura {altura} es: {resultado}\")\n"
      ]
    }
  ]
}